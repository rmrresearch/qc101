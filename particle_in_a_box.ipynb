{
 "cells": [
  {
   "cell_type": "code",
   "execution_count": 1,
   "id": "a957f9dd-68b5-441b-b4c8-aeb329766ad0",
   "metadata": {},
   "outputs": [],
   "source": [
    "import matplotlib.pyplot as plot\n",
    "import matplotlib.animation\n",
    "import numpy as np"
   ]
  },
  {
   "cell_type": "markdown",
   "id": "ea8d285f-1154-4ddf-bf4e-63a74ea43690",
   "metadata": {},
   "source": [
    "\\begin{align}\n",
    "    \\left|\\Psi(x,t)\\right|^2 &= \\sum_{n,m=1}^\\infty e^{i\\left(E_n - E_m\\right)t}c_n c_m \\psi_n(x)\\psi_m(x)\\\\\n",
    "                             &= \\sum_{n=1}^\\infty c_n^2 \\psi_n^2(x) + \n",
    "                                \\sum_{n < m}^\\infty 2\\cos\\left[\\left(E_n - E_m\\right)t\\right] c_n c_m \\psi_n(x)\\psi_m(x)\\\\\n",
    "                             &= \\sum_{n,m=1}^\\infty\\cos\\left[\\left(E_n - E_m\\right)t\\right] c_n c_m \\psi_n(x)\\psi_m(x)\n",
    "\\end{align}\n",
    "\n",
    "where the last line is obtained by relying on $ e^{i\\theta}+e^{-i\\theta} = 2 \\cos\\left(\\theta\\right)$.\n",
    "                          "
   ]
  },
  {
   "cell_type": "code",
   "execution_count": 2,
   "id": "eb365c18-cebc-4c14-9c7d-fd89e655c892",
   "metadata": {},
   "outputs": [
    {
     "name": "stdout",
     "output_type": "stream",
     "text": [
      "[ 4.9348022 19.7392088]\n",
      "[0.70710678+0.j 0.70710678+0.j]\n"
     ]
    }
   ],
   "source": [
    "L = 1\n",
    "mass = 1\n",
    "c = np.array([1/np.sqrt(2), 1/np.sqrt(2)])\n",
    "\n",
    "def egy(p):\n",
    "    return p * p * np.pi * np.pi / (2 * mass * L)\n",
    "\n",
    "def time_dependent_coefficient(c, t):\n",
    "    rv = np.zeros((len(c), ), dtype=complex)\n",
    "    for i in range(len(c)):\n",
    "        rv[i] = c[i] * np.exp(-1.0j * egy(i+1) * t)\n",
    "    return rv\n",
    "\n",
    "energies = np.array([egy(i + 1) for i in range(len(c))])\n",
    "ct = time_dependent_coefficient(c, 0.0)\n",
    "print(energies)\n",
    "print(ct)"
   ]
  },
  {
   "cell_type": "code",
   "execution_count": null,
   "id": "3fdfe463-b33a-4275-89f3-6a13e9ba671e",
   "metadata": {},
   "outputs": [],
   "source": []
  },
  {
   "cell_type": "code",
   "execution_count": 29,
   "id": "4741ce41-0c72-4a79-b189-8b979433230d",
   "metadata": {},
   "outputs": [
    {
     "name": "stdout",
     "output_type": "stream",
     "text": [
      "[[ 0.5       +0.j         -0.49185805+0.08986468j]\n",
      " [-0.49185805-0.08986468j  0.5       +0.j        ]]\n"
     ]
    }
   ],
   "source": [
    "def time_dependent_density(p0, dt):\n",
    "    rv = np.zeros(p0.shape, dtype=complex)\n",
    "    for i in range(len(c)):\n",
    "        ei = egy(i + 1)\n",
    "        for j in range(len(c)):\n",
    "            ej = egy(j + 1)\n",
    "            rv[i, j] = p0[i, j] * np.exp(-1.0j * (ei - ej) * dt)\n",
    "    return rv\n",
    "\n",
    "pt = [np.outer(ct, np.conj(ct))]\n",
    "for t in range(1, 10):\n",
    "    pt.append(time_dependent_density(pt[t - 1], 0.1))\n",
    "\n",
    "print(pt[2])"
   ]
  },
  {
   "cell_type": "code",
   "execution_count": 4,
   "id": "f93f7abf-6aaf-4ba1-ab44-ab5a94aa1755",
   "metadata": {},
   "outputs": [],
   "source": [
    "def spatial_wavefunction(p, x):\n",
    "    return np.sqrt(2.0 / L) * np.sin(p * np.pi * x/ L)\n",
    "\n",
    "grid = np.linspace(0, L, 100)\n",
    "real_space_wf = [np.array([spatial_wavefunction(i + 1, x) for x in grid]) for i in range(len(c))]"
   ]
  },
  {
   "cell_type": "code",
   "execution_count": 5,
   "id": "e02a7cd6-4e25-45ed-9844-f3864b6c2148",
   "metadata": {},
   "outputs": [
    {
     "name": "stdout",
     "output_type": "stream",
     "text": [
      "10\n"
     ]
    },
    {
     "data": {
      "application/vnd.jupyter.widget-view+json": {
       "model_id": "399874c249ca4ed0af047d2c7c8f5f9f",
       "version_major": 2,
       "version_minor": 0
      },
      "text/plain": [
       "interactive(children=(IntSlider(value=0, description='t', max=9), Output()), _dom_classes=('widget-interact',)…"
      ]
     },
     "metadata": {},
     "output_type": "display_data"
    },
    {
     "data": {
      "text/plain": [
       "<function __main__.plot_probability(t)>"
      ]
     },
     "execution_count": 5,
     "metadata": {},
     "output_type": "execute_result"
    }
   ],
   "source": [
    "from ipywidgets import interact, widgets\n",
    "\n",
    "def probability_density(p, real_space_wf):\n",
    "    value_at_x = np.zeros(real_space_wf[0].shape, dtype=complex)\n",
    "    n_rows, n_cols = p.shape\n",
    "    for i in range(n_rows):\n",
    "        psi_i = real_space_wf[i]\n",
    "        for j in range(n_cols):\n",
    "            psi_ij = psi_i * real_space_wf[j]\n",
    "            value_at_x += p[i,j] * psi_ij\n",
    "    \n",
    "    return value_at_x\n",
    "\n",
    "def plot_probability(t):\n",
    "    fig, ax = plot.subplots()\n",
    "    real_space_pt = probability_density(pt[t], real_space_wf)\n",
    "    ax.plot(grid, real_space_pt)    \n",
    "    ax.set_ylim([0, 4])\n",
    "    plot.show()\n",
    "    \n",
    "interact(plot_probability, t=widgets.IntSlider(min=0, max=(len(pt) - 1), step=1, value=0))"
   ]
  },
  {
   "cell_type": "code",
   "execution_count": 22,
   "id": "4bc650a7-ff72-4be5-aff7-77cede0d7990",
   "metadata": {},
   "outputs": [
    {
     "data": {
      "application/vnd.jupyter.widget-view+json": {
       "model_id": "ab3df3ddbf644825bec5f94eef4d5aa7",
       "version_major": 2,
       "version_minor": 0
      },
      "text/plain": [
       "interactive(children=(IntSlider(value=0, description='t', max=9), Output()), _dom_classes=('widget-interact',)…"
      ]
     },
     "metadata": {},
     "output_type": "display_data"
    },
    {
     "data": {
      "text/plain": [
       "<function __main__.plot_probability2(t)>"
      ]
     },
     "execution_count": 22,
     "metadata": {},
     "output_type": "execute_result"
    }
   ],
   "source": [
    "def plot_probability2(t):\n",
    "    fig, ax = plot.subplots()\n",
    "    real_space_pt = probability_density(pt2[t], real_space_wf)\n",
    "    ax.plot(grid, real_space_pt)    \n",
    "    ax.set_ylim([0, 4])\n",
    "    plot.show()\n",
    "\n",
    "interact(plot_probability2, t=widgets.IntSlider(min=0, max=(len(pt2) - 1), step=1, value=0))"
   ]
  },
  {
   "cell_type": "code",
   "execution_count": null,
   "id": "63e12264-be84-4c0d-a68c-78121e123428",
   "metadata": {},
   "outputs": [],
   "source": []
  }
 ],
 "metadata": {
  "kernelspec": {
   "display_name": "Python 3 (ipykernel)",
   "language": "python",
   "name": "python3"
  },
  "language_info": {
   "codemirror_mode": {
    "name": "ipython",
    "version": 3
   },
   "file_extension": ".py",
   "mimetype": "text/x-python",
   "name": "python",
   "nbconvert_exporter": "python",
   "pygments_lexer": "ipython3",
   "version": "3.12.6"
  }
 },
 "nbformat": 4,
 "nbformat_minor": 5
}
